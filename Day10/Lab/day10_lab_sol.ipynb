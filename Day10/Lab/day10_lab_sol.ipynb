{
 "cells": [
  {
   "cell_type": "markdown",
   "metadata": {},
   "source": [
    "# Lab Solutions : Complexity, Recursion, Sorting and Searching"
   ]
  },
  {
   "cell_type": "markdown",
   "metadata": {},
   "source": [
    "1. Write a function using recursion to calculate the greatest common divisor of two numbers \n",
    "- Helpful link: https://www.khanacademy.org/computing/computer-science/cryptography/modarithmetic/a/the-euclidean-algorithm"
   ]
  },
  {
   "cell_type": "code",
   "execution_count": 8,
   "metadata": {},
   "outputs": [
    {
     "data": {
      "text/plain": [
       "3"
      ]
     },
     "execution_count": 8,
     "metadata": {},
     "output_type": "execute_result"
    }
   ],
   "source": [
    "def gcd(x, y):\n",
    "\t## get remainder\n",
    "\tup = max(x,y)\n",
    "\tlo = min(x,y)\n",
    "\tre = up % lo\n",
    "\t## base case, no remainder\n",
    "\t## then that \"divisor\" is answer\n",
    "\tif re == 0:\n",
    "\t\treturn lo\n",
    "\t## otherwise, call function again with new inputs\n",
    "\treturn gcd(lo, re)\n",
    "\n",
    "gcd(24, 9)"
   ]
  },
  {
   "cell_type": "markdown",
   "metadata": {},
   "source": [
    "##### Another implementation"
   ]
  },
  {
   "cell_type": "code",
   "execution_count": 10,
   "metadata": {},
   "outputs": [],
   "source": [
    "def gcd(x,y):\n",
    "    if y == 0:\n",
    "        return x\n",
    "    else: \n",
    "        return gcd(y, x % y)"
   ]
  },
  {
   "cell_type": "markdown",
   "metadata": {},
   "source": [
    "2. Write a function using recursion that checks whether a number is a prime number. \n",
    "    - return True if n is prime\n",
    "    - return False otherwise"
   ]
  },
  {
   "cell_type": "code",
   "execution_count": 11,
   "metadata": {},
   "outputs": [
    {
     "data": {
      "text/plain": [
       "False"
      ]
     },
     "execution_count": 11,
     "metadata": {},
     "output_type": "execute_result"
    }
   ],
   "source": [
    "# i is current divisor to check.\n",
    "def isPrime(n, i = 2):\n",
    "    if n == 1: \n",
    "        return False\n",
    "    if n == i: \n",
    "        return True\n",
    "    elif n % i == 0: \n",
    "        return False\n",
    "    return isPrime(n, i + 1)\n",
    "\n",
    "isPrime(27)"
   ]
  },
  {
   "cell_type": "code",
   "execution_count": 12,
   "metadata": {},
   "outputs": [
    {
     "name": "stdout",
     "output_type": "stream",
     "text": [
      "True\n",
      "False\n",
      "False\n"
     ]
    }
   ],
   "source": [
    "print(isPrime(2))\n",
    "print(isPrime(177))\n",
    "print(isPrime(27))"
   ]
  },
  {
   "cell_type": "markdown",
   "metadata": {},
   "source": [
    "##### Another implementation"
   ]
  },
  {
   "cell_type": "code",
   "execution_count": null,
   "metadata": {},
   "outputs": [],
   "source": [
    "def isPrime(n, i = 2):\n",
    "    # Base cases\n",
    "    if (n <= 2):\n",
    "        return True if(n == 2) else False\n",
    "    if (n % i == 0):\n",
    "        return False\n",
    "    # what's happening here?\n",
    "    if (i * i > n):\n",
    "        return True\n",
    "    # Check for next divisor\n",
    "    return isPrime(n, i + 1)"
   ]
  }
 ],
 "metadata": {
  "kernelspec": {
   "display_name": "Python 3 (ipykernel)",
   "language": "python",
   "name": "python3"
  },
  "language_info": {
   "codemirror_mode": {
    "name": "ipython",
    "version": 3
   },
   "file_extension": ".py",
   "mimetype": "text/x-python",
   "name": "python",
   "nbconvert_exporter": "python",
   "pygments_lexer": "ipython3",
   "version": "3.12.4"
  }
 },
 "nbformat": 4,
 "nbformat_minor": 4
}
