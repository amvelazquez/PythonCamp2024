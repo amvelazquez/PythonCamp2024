{
 "cells": [
  {
   "cell_type": "markdown",
   "metadata": {},
   "source": [
    "# Lab: Binary Tree Data Structures and Nested JSON"
   ]
  },
  {
   "cell_type": "code",
   "execution_count": 3,
   "metadata": {},
   "outputs": [],
   "source": [
    "\"\"\"Data Structures: Working with Graphs/Networks\"\"\"\n",
    "# EXAMPLE: link nodes into a ring\n",
    "# Function to link 2 nodes (not in the sense of last script)\n",
    "def makeLink(G, node1, node2):\n",
    "  if node1 not in G:\n",
    "    G[node1] = {}\n",
    "  G[node1][node2] = True\n",
    "  if node2 not in G:\n",
    "    G[node2] = {}\n",
    "  G[node2][node1] = True\n",
    "  return G "
   ]
  },
  {
   "cell_type": "code",
   "execution_count": 4,
   "metadata": {},
   "outputs": [
    {
     "data": {
      "text/plain": [
       "{'a': {'b': True}, 'b': {'a': True}}"
      ]
     },
     "execution_count": 4,
     "metadata": {},
     "output_type": "execute_result"
    }
   ],
   "source": [
    "graph = {}\n",
    "graph = makeLink(graph, \"a\", \"b\")\n",
    "graph"
   ]
  },
  {
   "cell_type": "code",
   "execution_count": 5,
   "metadata": {},
   "outputs": [
    {
     "name": "stdout",
     "output_type": "stream",
     "text": [
      "{0: {1: True}, 1: {0: True}}\n",
      "{0: {1: True}, 1: {0: True, 2: True}, 2: {1: True}}\n",
      "{0: {1: True}, 1: {0: True, 2: True}, 2: {1: True, 3: True}, 3: {2: True}}\n",
      "{0: {1: True}, 1: {0: True, 2: True}, 2: {1: True, 3: True}, 3: {2: True, 4: True}, 4: {3: True}}\n",
      "{0: {1: True, 4: True}, 1: {0: True, 2: True}, 2: {1: True, 3: True}, 3: {2: True, 4: True}, 4: {3: True, 0: True}}\n"
     ]
    }
   ],
   "source": [
    "# empty graph \n",
    "ring = {} \n",
    "\n",
    "# number of nodes \n",
    "n = 5 \n",
    "\n",
    "# Add in edges with makeLink function\n",
    "for i in range(n):\n",
    "  ring = makeLink(ring, i, (i+1)%n)\n",
    "  print(ring)"
   ]
  },
  {
   "cell_type": "code",
   "execution_count": 6,
   "metadata": {},
   "outputs": [
    {
     "name": "stdout",
     "output_type": "stream",
     "text": [
      "{0: {1: True, 4: True}, 1: {0: True, 2: True}, 2: {1: True, 3: True}, 3: {2: True, 4: True}, 4: {3: True, 0: True}}\n"
     ]
    }
   ],
   "source": [
    "print(ring)\n",
    "# 4 = 0 = 1 = 2 = 3 = 4"
   ]
  },
  {
   "cell_type": "code",
   "execution_count": 7,
   "metadata": {},
   "outputs": [
    {
     "name": "stdout",
     "output_type": "stream",
     "text": [
      "5\n"
     ]
    }
   ],
   "source": [
    "# How many nodes?\n",
    "print(len(ring))"
   ]
  },
  {
   "cell_type": "code",
   "execution_count": 8,
   "metadata": {},
   "outputs": [
    {
     "name": "stdout",
     "output_type": "stream",
     "text": [
      "5.0\n"
     ]
    }
   ],
   "source": [
    "# How many edges?\n",
    "print(sum([len(ring[node]) for node in ring.keys()])/2)"
   ]
  },
  {
   "cell_type": "markdown",
   "metadata": {},
   "source": [
    "1. Grid Network"
   ]
  },
  {
   "cell_type": "markdown",
   "metadata": {},
   "source": [
    "* Create a square graph with 9 nodes using the makeLink function (from above)\n",
    "* Example: https://www.researchgate.net/profile/Mehdi-Zaferanieh/publication/344188550/figure/fig2/AS:940265934184449@1601188276248/The-grid-network-with-9-nodes_Q320.jpg\n"
   ]
  },
  {
   "cell_type": "code",
   "execution_count": null,
   "metadata": {},
   "outputs": [],
   "source": [
    "# YOUR CODE HERE"
   ]
  },
  {
   "cell_type": "markdown",
   "metadata": {},
   "source": [
    "* Define a function countEdges"
   ]
  },
  {
   "cell_type": "code",
   "execution_count": null,
   "metadata": {},
   "outputs": [],
   "source": [
    "# You may want to use the module math\n",
    "import math \n",
    "\n",
    "# YOUR CODE HERE"
   ]
  },
  {
   "cell_type": "markdown",
   "metadata": {},
   "source": [
    "2. Social Network"
   ]
  },
  {
   "cell_type": "code",
   "execution_count": null,
   "metadata": {},
   "outputs": [],
   "source": [
    "# some set-up:\n",
    "class Actor(object):\n",
    "  def __init__(self, name):\n",
    "    self.name = name \n",
    "\n",
    "  def __repr__(self):\n",
    "    return self.name "
   ]
  },
  {
   "cell_type": "code",
   "execution_count": null,
   "metadata": {},
   "outputs": [],
   "source": [
    "ss = Actor(\"Susan Sarandon\")\n",
    "jr = Actor(\"Julia Roberts\")\n",
    "kb = Actor(\"Kevin Bacon\")\n",
    "ah = Actor(\"Anne Hathaway\")\n",
    "rd = Actor(\"Robert DeNiro\")\n",
    "ms = Actor(\"Meryl Streep\")\n",
    "dh = Actor(\"Dustin Hoffman\")"
   ]
  },
  {
   "cell_type": "code",
   "execution_count": null,
   "metadata": {},
   "outputs": [],
   "source": [
    "movies = {}\n",
    "\n",
    "movies = makeLink(movies, dh, rd) # Wag the Dog\n",
    "movies = makeLink(movies, rd, ms) # Marvin's Room\n",
    "movies = makeLink(movies, dh, ss) # Midnight Mile\n",
    "movies = makeLink(movies, dh, jr) # Hook\n",
    "movies = makeLink(movies, dh, kb) # Sleepers\n",
    "movies = makeLink(movies, ss, jr) # Stepmom\n",
    "movies = makeLink(movies, kb, jr) # Flatliners\n",
    "movies = makeLink(movies, kb, ms) # The River Wild\n",
    "movies = makeLink(movies, ah, ms) # Devil Wears Prada\n",
    "movies = makeLink(movies, ah, jr) # Valentine's Day"
   ]
  },
  {
   "cell_type": "code",
   "execution_count": null,
   "metadata": {},
   "outputs": [],
   "source": [
    "def findPath(graph, start, end, path=[]):\n",
    "    ## create list\n",
    "    path = path + [start]\n",
    "    ## base case, reached end\n",
    "    if start == end:\n",
    "        return path\n",
    "    if start not in graph:\n",
    "        return None\n",
    "    ## for each connection to starting node\n",
    "    for node in graph[start]:\n",
    "        ## check if it is already in path\n",
    "        if node not in path:\n",
    "            break\n",
    "    ## if not, call recursively, thus adding node to path\n",
    "    ## carry around path object with you\n",
    "    return findPath(graph, node, end, path)\n",
    "\n",
    "print(findPath(movies, jr, ms))"
   ]
  },
  {
   "cell_type": "code",
   "execution_count": null,
   "metadata": {},
   "outputs": [],
   "source": [
    "## start with julia roberts \n",
    "## who is she directly connected to?\n",
    "movies[jr].keys()\n",
    "## who are they connected to?\n",
    "movies[ss].keys() \n",
    "movies[ah].keys() ## found meryl streep!\n",
    "movies[dh].keys()\n",
    "movies[kb].keys() ## found meryl streep!\n",
    "## so shortest path is either\n",
    "## jr -- ah -- ms\n",
    "## jr -- kb -- ms"
   ]
  },
  {
   "cell_type": "markdown",
   "metadata": {},
   "source": [
    "* Implement `findAllPaths()` to find all paths between two nodes"
   ]
  },
  {
   "cell_type": "code",
   "execution_count": null,
   "metadata": {},
   "outputs": [],
   "source": [
    "## allPaths = findAllPaths(movies, jr, ms)\n",
    "## for path in allPaths:\n",
    "##   print path"
   ]
  },
  {
   "cell_type": "markdown",
   "metadata": {},
   "source": [
    "* Implement `findShortestPath()` to print shorest path between actors"
   ]
  },
  {
   "cell_type": "code",
   "execution_count": null,
   "metadata": {},
   "outputs": [],
   "source": [
    "## print findShortestPath(movies, ms, ss)"
   ]
  },
  {
   "cell_type": "markdown",
   "metadata": {},
   "source": [
    "3. Flatten & extract the following information from the .json file in the lab folder. Each can be its own dataframe:"
   ]
  },
  {
   "cell_type": "markdown",
   "metadata": {},
   "source": [
    "* Works\n",
    "* Concerts\n",
    "* Soloists"
   ]
  },
  {
   "cell_type": "code",
   "execution_count": null,
   "metadata": {},
   "outputs": [],
   "source": [
    "# YOUR CODE HERE"
   ]
  },
  {
   "cell_type": "code",
   "execution_count": 1,
   "metadata": {},
   "outputs": [],
   "source": [
    "# Copyright of the original version:\n",
    "\n",
    "# Copyright (c) 2014 Matt Dickenson\n",
    "# \n",
    "# Permission is hereby granted, free of charge, to any person obtaining a copy\n",
    "# of this software and associated documentation files (the \"Software\"), to deal\n",
    "# in the Software without restriction, including without limitation the rights\n",
    "# to use, copy, modify, merge, publish, distribute, sublicense, and/or sell\n",
    "# copies of the Software, and to permit persons to whom the Software is\n",
    "# furnished to do so, subject to the following conditions:\n",
    "# \n",
    "# The above copyright notice and this permission notice shall be included in all\n",
    "# copies or substantial portions of the Software.\n",
    "# \n",
    "# THE SOFTWARE IS PROVIDED \"AS IS\", WITHOUT WARRANTY OF ANY KIND, EXPRESS OR\n",
    "# IMPLIED, INCLUDING BUT NOT LIMITED TO THE WARRANTIES OF MERCHANTABILITY,\n",
    "# FITNESS FOR A PARTICULAR PURPOSE AND NONINFRINGEMENT. IN NO EVENT SHALL THE\n",
    "# AUTHORS OR COPYRIGHT HOLDERS BE LIABLE FOR ANY CLAIM, DAMAGES OR OTHER\n",
    "# LIABILITY, WHETHER IN AN ACTION OF CONTRACT, TORT OR OTHERWISE, ARISING FROM,\n",
    "# OUT OF OR IN CONNECTION WITH THE SOFTWARE OR THE USE OR OTHER DEALINGS IN THE\n",
    "# SOFTWARE."
   ]
  },
  {
   "cell_type": "code",
   "execution_count": null,
   "metadata": {},
   "outputs": [],
   "source": []
  }
 ],
 "metadata": {
  "kernelspec": {
   "display_name": "Python 3 (ipykernel)",
   "language": "python",
   "name": "python3"
  },
  "language_info": {
   "codemirror_mode": {
    "name": "ipython",
    "version": 3
   },
   "file_extension": ".py",
   "mimetype": "text/x-python",
   "name": "python",
   "nbconvert_exporter": "python",
   "pygments_lexer": "ipython3",
   "version": "3.12.4"
  }
 },
 "nbformat": 4,
 "nbformat_minor": 4
}
